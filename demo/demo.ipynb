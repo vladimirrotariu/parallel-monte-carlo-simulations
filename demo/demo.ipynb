{
 "cells": [
  {
   "cell_type": "markdown",
   "metadata": {},
   "source": [
    "\n"
   ]
  },
  {
   "cell_type": "markdown",
   "metadata": {},
   "source": [
    "#"
   ]
  },
  {
   "cell_type": "code",
   "execution_count": 1,
   "metadata": {},
   "outputs": [
    {
     "name": "stdout",
     "output_type": "stream",
     "text": [
      "Note: you may need to restart the kernel to use updated packages.\n"
     ]
    }
   ],
   "source": [
    "%pip install -q apache_beam numpy pydantic apache-beam[interactive]"
   ]
  },
  {
   "cell_type": "code",
   "execution_count": 2,
   "metadata": {
    "tags": []
   },
   "outputs": [],
   "source": [
    "from apache_beam.options.pipeline_options import PipelineOptions\n",
    "       \n",
    "options = PipelineOptions(runner=\"DirectRunner\")"
   ]
  },
  {
   "cell_type": "code",
   "execution_count": 3,
   "metadata": {
    "tags": []
   },
   "outputs": [
    {
     "ename": "ModuleNotFoundError",
     "evalue": "No module named 'parallel_mc_battery'",
     "output_type": "error",
     "traceback": [
      "\u001b[0;31m---------------------------------------------------------------------------\u001b[0m",
      "\u001b[0;31mModuleNotFoundError\u001b[0m                       Traceback (most recent call last)",
      "Cell \u001b[0;32mIn[3], line 1\u001b[0m\n\u001b[0;32m----> 1\u001b[0m \u001b[38;5;28;01mfrom\u001b[39;00m \u001b[38;5;21;01mparallel_mc_battery\u001b[39;00m \u001b[38;5;28;01mimport\u001b[39;00m ParallelMCBattery\n\u001b[1;32m      3\u001b[0m battery_configs \u001b[38;5;241m=\u001b[39m {\u001b[38;5;124m\"\u001b[39m\u001b[38;5;124mrng\u001b[39m\u001b[38;5;124m\"\u001b[39m : \u001b[38;5;124m\"\u001b[39m\u001b[38;5;124mPhilox\u001b[39m\u001b[38;5;124m\"\u001b[39m, \u001b[38;5;124m\"\u001b[39m\u001b[38;5;124mpipeline_options\u001b[39m\u001b[38;5;124m\"\u001b[39m: options}\n\u001b[1;32m      5\u001b[0m battery_parallel_MC \u001b[38;5;241m=\u001b[39m ParallelMCBattery(battery_configs\u001b[38;5;241m=\u001b[39mbattery_configs)\n",
      "\u001b[0;31mModuleNotFoundError\u001b[0m: No module named 'parallel_mc_battery'"
     ]
    }
   ],
   "source": [
    "from parallel_mc_battery import ParallelMCBattery\n",
    "\n",
    "battery_configs = {\"rng\" : \"Philox\", \"pipeline_options\": options}\n",
    "\n",
    "battery_parallel_MC = ParallelMCBattery(battery_configs=battery_configs)"
   ]
  },
  {
   "cell_type": "code",
   "execution_count": null,
   "metadata": {
    "tags": []
   },
   "outputs": [],
   "source": [
    "def CoinSequence(number_flips, rng, bias):\n",
    "    return [1 if rng.random() <= bias[0] else 0 for _ in range(number_flips)]\n",
    "\n",
    "models = [CoinSequence, CoinSequence]"
   ]
  },
  {
   "cell_type": "code",
   "execution_count": null,
   "metadata": {
    "tags": []
   },
   "outputs": [],
   "source": [
    "unbiased_coin_config = {\"number_simulations\" : 100000, \"number_points\": 3, \"parameters\": [0.5]}\n",
    "biased_coin_config = {\"number_simulations\" : 60000, \"number_points\": 5, \"parameters\": [0.7]}\n",
    "\n",
    "simulation_configs = [unbiased_coin_config, biased_coin_config]"
   ]
  },
  {
   "cell_type": "code",
   "execution_count": null,
   "metadata": {
    "tags": []
   },
   "outputs": [],
   "source": [
    "battery_parallel_MC.simulate(models, simulation_configs)"
   ]
  },
  {
   "cell_type": "code",
   "execution_count": null,
   "metadata": {
    "tags": []
   },
   "outputs": [],
   "source": [
    "!head -n 3 0.txt"
   ]
  },
  {
   "cell_type": "code",
   "execution_count": null,
   "metadata": {
    "tags": []
   },
   "outputs": [],
   "source": [
    "!head -n 3 1.txt"
   ]
  }
 ],
 "metadata": {
  "kernelspec": {
   "display_name": "Python 3 (ipykernel)",
   "language": "python",
   "name": "python3"
  },
  "language_info": {
   "codemirror_mode": {
    "name": "ipython",
    "version": 3
   },
   "file_extension": ".py",
   "mimetype": "text/x-python",
   "name": "python",
   "nbconvert_exporter": "python",
   "pygments_lexer": "ipython3",
   "version": "3.11.5"
  }
 },
 "nbformat": 4,
 "nbformat_minor": 4
}
