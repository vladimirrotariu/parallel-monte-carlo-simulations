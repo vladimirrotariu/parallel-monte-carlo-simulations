{
 "cells": [
  {
   "cell_type": "markdown",
   "metadata": {},
   "source": [
    "\n"
   ]
  },
  {
   "cell_type": "markdown",
   "metadata": {},
   "source": [
    "#"
   ]
  },
  {
   "cell_type": "code",
   "execution_count": 1,
   "metadata": {},
   "outputs": [
    {
     "name": "stdout",
     "output_type": "stream",
     "text": [
      "Collecting parallel_mc_battery\n",
      "  Cloning https://github.com/vladimirrotariu/parallel-monte-carlo-simulations/src to /private/var/folders/9v/049fbwnj7tg0l7rpqgsjmkcw0000gn/T/pip-install-wttdyzdx/parallel-mc-battery_2c1a9cf205f1463b94cd3de115eec276\n",
      "  Running command git clone --filter=blob:none --quiet https://github.com/vladimirrotariu/parallel-monte-carlo-simulations/src /private/var/folders/9v/049fbwnj7tg0l7rpqgsjmkcw0000gn/T/pip-install-wttdyzdx/parallel-mc-battery_2c1a9cf205f1463b94cd3de115eec276\n",
      "  remote: Not Found\n",
      "  fatal: repository 'https://github.com/vladimirrotariu/parallel-monte-carlo-simulations/src/' not found\n",
      "  \u001b[1;31merror\u001b[0m: \u001b[1msubprocess-exited-with-error\u001b[0m\n",
      "  \n",
      "  \u001b[31m×\u001b[0m \u001b[32mgit clone --\u001b[0m\u001b[32mfilter\u001b[0m\u001b[32m=\u001b[0m\u001b[32mblob\u001b[0m\u001b[32m:none --quiet \u001b[0m\u001b[4;32mhttps://github.com/vladimirrotariu/parallel-monte-carlo-simulations/src\u001b[0m\u001b[32m \u001b[0m\u001b[32m/private/var/folders/9v/049fbwnj7tg0l7rpqgsjmkcw0000gn/T/pip-install-wttdyzdx/\u001b[0m\u001b[32mparallel-mc-battery_2c1a9cf205f1463b94cd3de115eec276\u001b[0m did not run successfully.\n",
      "  \u001b[31m│\u001b[0m exit code: \u001b[1;36m128\u001b[0m\n",
      "  \u001b[31m╰─>\u001b[0m See above for output.\n",
      "  \n",
      "  \u001b[1;35mnote\u001b[0m: This error originates from a subprocess, and is likely not a problem with pip.\n",
      "\u001b[1;31merror\u001b[0m: \u001b[1msubprocess-exited-with-error\u001b[0m\n",
      "\n",
      "\u001b[31m×\u001b[0m \u001b[32mgit clone --\u001b[0m\u001b[32mfilter\u001b[0m\u001b[32m=\u001b[0m\u001b[32mblob\u001b[0m\u001b[32m:none --quiet \u001b[0m\u001b[4;32mhttps://github.com/vladimirrotariu/parallel-monte-carlo-simulations/src\u001b[0m\u001b[32m \u001b[0m\u001b[32m/private/var/folders/9v/049fbwnj7tg0l7rpqgsjmkcw0000gn/T/pip-install-wttdyzdx/\u001b[0m\u001b[32mparallel-mc-battery_2c1a9cf205f1463b94cd3de115eec276\u001b[0m did not run successfully.\n",
      "\u001b[31m│\u001b[0m exit code: \u001b[1;36m128\u001b[0m\n",
      "\u001b[31m╰─>\u001b[0m See above for output.\n",
      "\n",
      "\u001b[1;35mnote\u001b[0m: This error originates from a subprocess, and is likely not a problem with pip.\n"
     ]
    }
   ],
   "source": [
    "!pip install git+https://github.com/vladimirrotariu/parallel-monte-carlo-simulations#egg=parallel_mc_battery&subdirectory=src"
   ]
  },
  {
   "cell_type": "code",
   "execution_count": 2,
   "metadata": {
    "tags": []
   },
   "outputs": [],
   "source": [
    "from apache_beam.options.pipeline_options import PipelineOptions\n",
    "       \n",
<<<<<<< Updated upstream
    "options = PipelineOptions()"
=======
    "options = PipelineOptions(runner=\"DirectRunner\")"
>>>>>>> Stashed changes
   ]
  },
  {
   "cell_type": "code",
   "execution_count": 3,
   "metadata": {
    "tags": []
   },
<<<<<<< Updated upstream
   "outputs": [],
=======
   "outputs": [
    {
     "ename": "ModuleNotFoundError",
     "evalue": "No module named 'parallel_mc_battery'",
     "output_type": "error",
     "traceback": [
      "\u001b[0;31m---------------------------------------------------------------------------\u001b[0m",
      "\u001b[0;31mModuleNotFoundError\u001b[0m                       Traceback (most recent call last)",
      "Cell \u001b[0;32mIn[3], line 1\u001b[0m\n\u001b[0;32m----> 1\u001b[0m \u001b[38;5;28;01mfrom\u001b[39;00m \u001b[38;5;21;01mparallel_mc_battery\u001b[39;00m \u001b[38;5;28;01mimport\u001b[39;00m ParallelMCBattery\n\u001b[1;32m      3\u001b[0m battery_configs \u001b[38;5;241m=\u001b[39m {\u001b[38;5;124m\"\u001b[39m\u001b[38;5;124mrng\u001b[39m\u001b[38;5;124m\"\u001b[39m : \u001b[38;5;124m\"\u001b[39m\u001b[38;5;124mPhilox\u001b[39m\u001b[38;5;124m\"\u001b[39m, \u001b[38;5;124m\"\u001b[39m\u001b[38;5;124mpipeline_options\u001b[39m\u001b[38;5;124m\"\u001b[39m: options}\n\u001b[1;32m      5\u001b[0m battery_parallel_MC \u001b[38;5;241m=\u001b[39m ParallelMCBattery(battery_configs\u001b[38;5;241m=\u001b[39mbattery_configs)\n",
      "\u001b[0;31mModuleNotFoundError\u001b[0m: No module named 'parallel_mc_battery'"
     ]
    }
   ],
>>>>>>> Stashed changes
   "source": [
    "from parallel_mc_battery import ParallelMCBattery\n",
    "\n",
    "battery_configs = {\"rng\" : \"Philox\", \"pipeline_options\": options}\n",
    "\n",
    "battery_parallel_MC = ParallelMCBattery(battery_configs=battery_configs)"
   ]
  },
  {
   "cell_type": "code",
<<<<<<< Updated upstream
   "execution_count": 4,
=======
   "execution_count": null,
>>>>>>> Stashed changes
   "metadata": {
    "tags": []
   },
   "outputs": [],
   "source": [
    "def CoinSequence(number_flips, rng, bias):\n",
    "    return [1 if rng.random() <= bias[0] else 0 for _ in range(number_flips)]\n",
    "\n",
    "models = [CoinSequence, CoinSequence]"
   ]
  },
  {
   "cell_type": "code",
<<<<<<< Updated upstream
   "execution_count": 5,
=======
   "execution_count": null,
>>>>>>> Stashed changes
   "metadata": {
    "tags": []
   },
   "outputs": [],
   "source": [
    "unbiased_coin_config = {\"number_simulations\" : 100000, \"number_points\": 3, \"parameters\": [0.5]}\n",
    "biased_coin_config = {\"number_simulations\" : 60000, \"number_points\": 5, \"parameters\": [0.7]}\n",
    "\n",
    "simulation_configs = [unbiased_coin_config, biased_coin_config]"
   ]
  },
  {
   "cell_type": "code",
<<<<<<< Updated upstream
   "execution_count": 6,
   "metadata": {
    "tags": []
   },
   "outputs": [
    {
     "data": {
      "application/javascript": "\n        if (typeof window.interactive_beam_jquery == 'undefined') {\n          var jqueryScript = document.createElement('script');\n          jqueryScript.src = 'https://code.jquery.com/jquery-3.4.1.slim.min.js';\n          jqueryScript.type = 'text/javascript';\n          jqueryScript.onload = function() {\n            var datatableScript = document.createElement('script');\n            datatableScript.src = 'https://cdn.datatables.net/1.10.20/js/jquery.dataTables.min.js';\n            datatableScript.type = 'text/javascript';\n            datatableScript.onload = function() {\n              window.interactive_beam_jquery = jQuery.noConflict(true);\n              window.interactive_beam_jquery(document).ready(function($){\n                \n              });\n            }\n            document.head.appendChild(datatableScript);\n          };\n          document.head.appendChild(jqueryScript);\n        } else {\n          window.interactive_beam_jquery(document).ready(function($){\n            \n          });\n        }"
     },
     "metadata": {},
     "output_type": "display_data"
    },
    {
     "name": "stderr",
     "output_type": "stream",
     "text": [
      "WARNING:apache_beam.options.pipeline_options:Discarding unparseable args: ['-f', '/Users/vladimirioanrotariu/Library/Jupyter/runtime/kernel-9a427ac1-c254-43b1-ae78-c5f22b54f2f6.json']\n"
     ]
    }
   ],
=======
   "execution_count": null,
   "metadata": {
    "tags": []
   },
   "outputs": [],
>>>>>>> Stashed changes
   "source": [
    "battery_parallel_MC.simulate(models, simulation_configs)"
   ]
  },
  {
   "cell_type": "code",
<<<<<<< Updated upstream
   "execution_count": 7,
   "metadata": {
    "tags": []
   },
   "outputs": [
    {
     "name": "stdout",
     "output_type": "stream",
     "text": [
      "1,1,1\n",
      "1,0,1\n",
      "0,1,1\n"
     ]
    }
   ],
=======
   "execution_count": null,
   "metadata": {
    "tags": []
   },
   "outputs": [],
>>>>>>> Stashed changes
   "source": [
    "!head -n 3 0.txt"
   ]
  },
  {
   "cell_type": "code",
<<<<<<< Updated upstream
   "execution_count": 8,
   "metadata": {
    "tags": []
   },
   "outputs": [
    {
     "name": "stdout",
     "output_type": "stream",
     "text": [
      "1,1,1,0,1\n",
      "1,1,1,1,0\n",
      "0,1,1,1,1\n"
     ]
    }
   ],
=======
   "execution_count": null,
   "metadata": {
    "tags": []
   },
   "outputs": [],
>>>>>>> Stashed changes
   "source": [
    "!head -n 3 1.txt"
   ]
  }
 ],
 "metadata": {
  "kernelspec": {
   "display_name": "Python 3 (ipykernel)",
   "language": "python",
   "name": "python3"
  },
  "language_info": {
   "codemirror_mode": {
    "name": "ipython",
    "version": 3
   },
   "file_extension": ".py",
   "mimetype": "text/x-python",
   "name": "python",
   "nbconvert_exporter": "python",
   "pygments_lexer": "ipython3",
   "version": "3.11.5"
  }
 },
 "nbformat": 4,
 "nbformat_minor": 4
}
